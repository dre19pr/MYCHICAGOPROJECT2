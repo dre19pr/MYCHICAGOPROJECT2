{
 "cells": [
  {
   "cell_type": "markdown",
   "id": "04cf3f83-fc88-40c4-85a5-c2164ff7ae04",
   "metadata": {},
   "source": [
    "Loading the SQL Extension"
   ]
  },
  {
   "cell_type": "code",
   "execution_count": 1,
   "id": "4da0df11-b190-43bc-b89c-1e504841ef2d",
   "metadata": {
    "tags": []
   },
   "outputs": [],
   "source": [
    "%load_ext sql"
   ]
  },
  {
   "cell_type": "markdown",
   "id": "28f867df-b005-4a50-9bd7-36de7af60ca7",
   "metadata": {},
   "source": [
    "Installing pandas and importing csv,sqlite."
   ]
  },
  {
   "cell_type": "code",
   "execution_count": 2,
   "id": "8e93275b-1e6f-488b-96f9-548045ccda90",
   "metadata": {
    "tags": []
   },
   "outputs": [],
   "source": [
    "import csv, sqlite3\n",
    "\n",
    "con=sqlite3.connect(\"FinalDB.db\")\n",
    "cur=con.cursor()\n",
    "!pip install -q pandas==1.1.5"
   ]
  },
  {
   "cell_type": "markdown",
   "id": "1e862102-5081-4938-8a57-23ac36b98ae6",
   "metadata": {},
   "source": [
    "Connecting to the FINALDB.db"
   ]
  },
  {
   "cell_type": "code",
   "execution_count": 3,
   "id": "3b616abf-cfea-4e5b-8b42-4794b28b3012",
   "metadata": {
    "tags": []
   },
   "outputs": [
    {
     "data": {
      "text/plain": [
       "'Connected: @FinalDB.db'"
      ]
     },
     "execution_count": 3,
     "metadata": {},
     "output_type": "execute_result"
    }
   ],
   "source": [
    "%sql sqlite:///FinalDB.db"
   ]
  },
  {
   "cell_type": "markdown",
   "id": "59e4f56a-db18-4408-bb2a-ca19e21a22b8",
   "metadata": {},
   "source": [
    "Transferring the datasets to tables"
   ]
  },
  {
   "cell_type": "code",
   "execution_count": 4,
   "id": "595ec685-74da-4eff-a45e-8a5ed8d2de38",
   "metadata": {
    "tags": []
   },
   "outputs": [
    {
     "name": "stderr",
     "output_type": "stream",
     "text": [
      "/home/jupyterlab/conda/envs/python/lib/python3.7/site-packages/pandas/core/generic.py:2882: UserWarning: The spaces in these column names will not be changed. In pandas versions < 0.14, spaces were converted to underscores.\n",
      "  both result in 0.1234 being formatted as 0.12.\n"
     ]
    }
   ],
   "source": [
    "import pandas\n",
    "\n",
    "df=pandas.read_csv(\"https://cf-courses-data.s3.us.cloud-object-storage.appdomain.cloud/IBMDeveloperSkillsNetwork-DB0201EN-SkillsNetwork/labs/FinalModule_Coursera_V5/data/ChicagoCensusData.csv\")\n",
    "\n",
    "df.to_sql(\"CENSUS_DATA\",con,if_exists='replace',index=False,method=\"multi\")\n",
    "\n",
    "df=pandas.read_csv(\"https://cf-courses-data.s3.us.cloud-object-storage.appdomain.cloud/IBMDeveloperSkillsNetwork-DB0201EN-SkillsNetwork/labs/FinalModule_Coursera_V5/data/ChicagoCrimeData.csv\")\n",
    "\n",
    "df.to_sql(\"CHICAGO_CRIME_DATA\",con,if_exists='replace',index=False,method=\"multi\")\n",
    "\n",
    "df=pandas.read_csv(\"https://cf-courses-data.s3.us.cloud-object-storage.appdomain.cloud/IBMDeveloperSkillsNetwork-DB0201EN-SkillsNetwork/labs/FinalModule_Coursera_V5/data/ChicagoPublicSchools.csv\")\n",
    "\n",
    "df.to_sql(\"CHICAGO_PUBLIC_SCHOOLS_DATA\",con,if_exists='replace',index=False,method=\"multi\")"
   ]
  },
  {
   "cell_type": "markdown",
   "id": "9d6c03d1-f02d-4507-8ba8-e78b3fd54b56",
   "metadata": {},
   "source": [
    "Question 1: How many crimes are in the Crime table "
   ]
  },
  {
   "cell_type": "code",
   "execution_count": 5,
   "id": "a192aa7b-825a-483c-ac0b-bc45dcc660fc",
   "metadata": {
    "tags": []
   },
   "outputs": [
    {
     "name": "stdout",
     "output_type": "stream",
     "text": [
      " * sqlite:///FinalDB.db\n",
      "Done.\n"
     ]
    },
    {
     "data": {
      "text/html": [
       "<table>\n",
       "    <thead>\n",
       "        <tr>\n",
       "            <th>COUNT(*)</th>\n",
       "        </tr>\n",
       "    </thead>\n",
       "    <tbody>\n",
       "        <tr>\n",
       "            <td>533</td>\n",
       "        </tr>\n",
       "    </tbody>\n",
       "</table>"
      ],
      "text/plain": [
       "[(533,)]"
      ]
     },
     "execution_count": 5,
     "metadata": {},
     "output_type": "execute_result"
    }
   ],
   "source": [
    "%sql select COUNT(*) FROM CHICAGO_CRIME_DATA;"
   ]
  },
  {
   "cell_type": "markdown",
   "id": "a097a41e-4fc9-4486-98a9-9c40ec681e6a",
   "metadata": {},
   "source": [
    "QUESTION 2: Listing which Community Areas have a Per Capita Income that's less than $11,000"
   ]
  },
  {
   "cell_type": "code",
   "execution_count": 16,
   "id": "63ac0dc4-fd2a-46d2-9d28-318172cc04b4",
   "metadata": {
    "tags": []
   },
   "outputs": [
    {
     "name": "stdout",
     "output_type": "stream",
     "text": [
      " * sqlite:///FinalDB.db\n",
      "Done.\n"
     ]
    },
    {
     "data": {
      "text/html": [
       "<table>\n",
       "    <thead>\n",
       "        <tr>\n",
       "            <th>COMMUNITY_AREA_NUMBER</th>\n",
       "            <th>COMMUNITY_AREA_NAME</th>\n",
       "            <th>PER_CAPITA_INCOME</th>\n",
       "        </tr>\n",
       "    </thead>\n",
       "    <tbody>\n",
       "        <tr>\n",
       "            <td>26.0</td>\n",
       "            <td>West Garfield Park</td>\n",
       "            <td>10934</td>\n",
       "        </tr>\n",
       "        <tr>\n",
       "            <td>30.0</td>\n",
       "            <td>South Lawndale</td>\n",
       "            <td>10402</td>\n",
       "        </tr>\n",
       "        <tr>\n",
       "            <td>37.0</td>\n",
       "            <td>Fuller Park</td>\n",
       "            <td>10432</td>\n",
       "        </tr>\n",
       "        <tr>\n",
       "            <td>54.0</td>\n",
       "            <td>Riverdale</td>\n",
       "            <td>8201</td>\n",
       "        </tr>\n",
       "    </tbody>\n",
       "</table>"
      ],
      "text/plain": [
       "[(26.0, 'West Garfield Park', 10934),\n",
       " (30.0, 'South Lawndale', 10402),\n",
       " (37.0, 'Fuller Park', 10432),\n",
       " (54.0, 'Riverdale', 8201)]"
      ]
     },
     "execution_count": 16,
     "metadata": {},
     "output_type": "execute_result"
    }
   ],
   "source": [
    "%sql select COMMUNITY_AREA_NUMBER,COMMUNITY_AREA_NAME,PER_CAPITA_INCOME FROM CENSUS_DATA \\\n",
    "WHERE PER_CAPITA_INCOME <11000;"
   ]
  },
  {
   "cell_type": "markdown",
   "id": "544342cf-936d-4329-9ce8-9b16cb09c5ea",
   "metadata": {},
   "source": [
    "Question#3: Listing the Case Numbers for Offenses involving Children"
   ]
  },
  {
   "cell_type": "code",
   "execution_count": 17,
   "id": "9ac78d74-ca9b-4aa1-a353-5b026a41a66d",
   "metadata": {
    "tags": []
   },
   "outputs": [
    {
     "name": "stdout",
     "output_type": "stream",
     "text": [
      " * sqlite:///FinalDB.db\n",
      "Done.\n"
     ]
    },
    {
     "data": {
      "text/html": [
       "<table>\n",
       "    <thead>\n",
       "        <tr>\n",
       "            <th>CASE_NUMBER</th>\n",
       "            <th>PRIMARY_TYPE</th>\n",
       "        </tr>\n",
       "    </thead>\n",
       "    <tbody>\n",
       "        <tr>\n",
       "            <td>HN567387</td>\n",
       "            <td>OFFENSE INVOLVING CHILDREN</td>\n",
       "        </tr>\n",
       "        <tr>\n",
       "            <td>HR391350</td>\n",
       "            <td>OFFENSE INVOLVING CHILDREN</td>\n",
       "        </tr>\n",
       "        <tr>\n",
       "            <td>HM768251</td>\n",
       "            <td>OFFENSE INVOLVING CHILDREN</td>\n",
       "        </tr>\n",
       "        <tr>\n",
       "            <td>HT394616</td>\n",
       "            <td>OFFENSE INVOLVING CHILDREN</td>\n",
       "        </tr>\n",
       "    </tbody>\n",
       "</table>"
      ],
      "text/plain": [
       "[('HN567387', 'OFFENSE INVOLVING CHILDREN'),\n",
       " ('HR391350', 'OFFENSE INVOLVING CHILDREN'),\n",
       " ('HM768251', 'OFFENSE INVOLVING CHILDREN'),\n",
       " ('HT394616', 'OFFENSE INVOLVING CHILDREN')]"
      ]
     },
     "execution_count": 17,
     "metadata": {},
     "output_type": "execute_result"
    }
   ],
   "source": [
    "%sql select CASE_NUMBER,PRIMARY_TYPE FROM CHICAGO_CRIME_DATA \\\n",
    "WHERE PRIMARY_TYPE=\"OFFENSE INVOLVING CHILDREN\""
   ]
  },
  {
   "cell_type": "markdown",
   "id": "9b99d05b-e044-4cfc-b9a0-4b8219e319f6",
   "metadata": {},
   "source": [
    "Question#4: Listing all kidnapping cases involving a child"
   ]
  },
  {
   "cell_type": "code",
   "execution_count": 18,
   "id": "d8c45584-b567-4fbf-8b98-082bbdf8516a",
   "metadata": {
    "tags": []
   },
   "outputs": [
    {
     "name": "stdout",
     "output_type": "stream",
     "text": [
      " * sqlite:///FinalDB.db\n",
      "Done.\n"
     ]
    },
    {
     "data": {
      "text/html": [
       "<table>\n",
       "    <thead>\n",
       "        <tr>\n",
       "            <th>ID</th>\n",
       "            <th>CASE_NUMBER</th>\n",
       "            <th>DATE</th>\n",
       "            <th>BLOCK</th>\n",
       "            <th>IUCR</th>\n",
       "            <th>PRIMARY_TYPE</th>\n",
       "            <th>DESCRIPTION</th>\n",
       "            <th>LOCATION_DESCRIPTION</th>\n",
       "            <th>ARREST</th>\n",
       "            <th>DOMESTIC</th>\n",
       "            <th>BEAT</th>\n",
       "            <th>DISTRICT</th>\n",
       "            <th>WARD</th>\n",
       "            <th>COMMUNITY_AREA_NUMBER</th>\n",
       "            <th>FBICODE</th>\n",
       "            <th>X_COORDINATE</th>\n",
       "            <th>Y_COORDINATE</th>\n",
       "            <th>YEAR</th>\n",
       "            <th>LATITUDE</th>\n",
       "            <th>LONGITUDE</th>\n",
       "            <th>LOCATION</th>\n",
       "        </tr>\n",
       "    </thead>\n",
       "    <tbody>\n",
       "        <tr>\n",
       "            <td>5276766</td>\n",
       "            <td>HN144152</td>\n",
       "            <td>2007-01-26</td>\n",
       "            <td>050XX W VAN BUREN ST</td>\n",
       "            <td>1792</td>\n",
       "            <td>KIDNAPPING</td>\n",
       "            <td>CHILD ABDUCTION/STRANGER</td>\n",
       "            <td>STREET</td>\n",
       "            <td>0</td>\n",
       "            <td>0</td>\n",
       "            <td>1533</td>\n",
       "            <td>15</td>\n",
       "            <td>29.0</td>\n",
       "            <td>25.0</td>\n",
       "            <td>20</td>\n",
       "            <td>1143050.0</td>\n",
       "            <td>1897546.0</td>\n",
       "            <td>2007</td>\n",
       "            <td>41.87490841</td>\n",
       "            <td>-87.75024931</td>\n",
       "            <td>(41.874908413, -87.750249307)</td>\n",
       "        </tr>\n",
       "    </tbody>\n",
       "</table>"
      ],
      "text/plain": [
       "[(5276766, 'HN144152', '2007-01-26', '050XX W VAN BUREN ST', '1792', 'KIDNAPPING', 'CHILD ABDUCTION/STRANGER', 'STREET', 0, 0, 1533, 15, 29.0, 25.0, '20', 1143050.0, 1897546.0, 2007, 41.87490841, -87.75024931, '(41.874908413, -87.750249307)')]"
      ]
     },
     "execution_count": 18,
     "metadata": {},
     "output_type": "execute_result"
    }
   ],
   "source": [
    "%sql select * FROM CHICAGO_CRIME_DATA\\\n",
    "WHERE PRIMARY_TYPE=\"KIDNAPPING\" AND DESCRIPTION=\"CHILD ABDUCTION/STRANGER\";"
   ]
  },
  {
   "cell_type": "markdown",
   "id": "e9cb34f5-0c06-4a59-9f0d-a3532bd8f02a",
   "metadata": {},
   "source": [
    "QUESTION 5: What types of crimes happened at School?"
   ]
  },
  {
   "cell_type": "code",
   "execution_count": 19,
   "id": "5c1a28cf-fb62-451d-b0e5-10762891016d",
   "metadata": {
    "tags": []
   },
   "outputs": [
    {
     "name": "stdout",
     "output_type": "stream",
     "text": [
      " * sqlite:///FinalDB.db\n",
      "Done.\n"
     ]
    },
    {
     "data": {
      "text/html": [
       "<table>\n",
       "    <thead>\n",
       "        <tr>\n",
       "            <th>PRIMARY_TYPE</th>\n",
       "            <th>LOCATION_DESCRIPTION</th>\n",
       "        </tr>\n",
       "    </thead>\n",
       "    <tbody>\n",
       "        <tr>\n",
       "            <td>BATTERY</td>\n",
       "            <td>SCHOOL, PUBLIC, GROUNDS</td>\n",
       "        </tr>\n",
       "        <tr>\n",
       "            <td>BATTERY</td>\n",
       "            <td>SCHOOL, PUBLIC, BUILDING</td>\n",
       "        </tr>\n",
       "        <tr>\n",
       "            <td>BATTERY</td>\n",
       "            <td>SCHOOL, PUBLIC, BUILDING</td>\n",
       "        </tr>\n",
       "        <tr>\n",
       "            <td>BATTERY</td>\n",
       "            <td>SCHOOL, PUBLIC, BUILDING</td>\n",
       "        </tr>\n",
       "        <tr>\n",
       "            <td>BATTERY</td>\n",
       "            <td>SCHOOL, PUBLIC, GROUNDS</td>\n",
       "        </tr>\n",
       "        <tr>\n",
       "            <td>CRIMINAL DAMAGE</td>\n",
       "            <td>SCHOOL, PUBLIC, GROUNDS</td>\n",
       "        </tr>\n",
       "        <tr>\n",
       "            <td>NARCOTICS</td>\n",
       "            <td>SCHOOL, PUBLIC, GROUNDS</td>\n",
       "        </tr>\n",
       "        <tr>\n",
       "            <td>NARCOTICS</td>\n",
       "            <td>SCHOOL, PUBLIC, BUILDING</td>\n",
       "        </tr>\n",
       "        <tr>\n",
       "            <td>ASSAULT</td>\n",
       "            <td>SCHOOL, PUBLIC, GROUNDS</td>\n",
       "        </tr>\n",
       "        <tr>\n",
       "            <td>CRIMINAL TRESPASS</td>\n",
       "            <td>SCHOOL, PUBLIC, GROUNDS</td>\n",
       "        </tr>\n",
       "        <tr>\n",
       "            <td>PUBLIC PEACE VIOLATION</td>\n",
       "            <td>SCHOOL, PRIVATE, BUILDING</td>\n",
       "        </tr>\n",
       "        <tr>\n",
       "            <td>PUBLIC PEACE VIOLATION</td>\n",
       "            <td>SCHOOL, PUBLIC, BUILDING</td>\n",
       "        </tr>\n",
       "    </tbody>\n",
       "</table>"
      ],
      "text/plain": [
       "[('BATTERY', 'SCHOOL, PUBLIC, GROUNDS'),\n",
       " ('BATTERY', 'SCHOOL, PUBLIC, BUILDING'),\n",
       " ('BATTERY', 'SCHOOL, PUBLIC, BUILDING'),\n",
       " ('BATTERY', 'SCHOOL, PUBLIC, BUILDING'),\n",
       " ('BATTERY', 'SCHOOL, PUBLIC, GROUNDS'),\n",
       " ('CRIMINAL DAMAGE', 'SCHOOL, PUBLIC, GROUNDS'),\n",
       " ('NARCOTICS', 'SCHOOL, PUBLIC, GROUNDS'),\n",
       " ('NARCOTICS', 'SCHOOL, PUBLIC, BUILDING'),\n",
       " ('ASSAULT', 'SCHOOL, PUBLIC, GROUNDS'),\n",
       " ('CRIMINAL TRESPASS', 'SCHOOL, PUBLIC, GROUNDS'),\n",
       " ('PUBLIC PEACE VIOLATION', 'SCHOOL, PRIVATE, BUILDING'),\n",
       " ('PUBLIC PEACE VIOLATION', 'SCHOOL, PUBLIC, BUILDING')]"
      ]
     },
     "execution_count": 19,
     "metadata": {},
     "output_type": "execute_result"
    }
   ],
   "source": [
    "%sql select PRIMARY_TYPE,LOCATION_DESCRIPTION FROM CHICAGO_CRIME_DATA \\\n",
    "WHERE LOCATION_DESCRIPTION LIKE 'SCHOOL%';"
   ]
  },
  {
   "cell_type": "markdown",
   "id": "640ba749-e6a6-486b-a241-bd8447b63c7a",
   "metadata": {},
   "source": [
    "QUESTION#6: Showing the Average Safety Score for each type of school"
   ]
  },
  {
   "cell_type": "code",
   "execution_count": 20,
   "id": "803da2fe-eb45-4d3c-9601-e1f6a799c823",
   "metadata": {
    "tags": []
   },
   "outputs": [
    {
     "name": "stdout",
     "output_type": "stream",
     "text": [
      " * sqlite:///FinalDB.db\n",
      "Done.\n"
     ]
    },
    {
     "data": {
      "text/html": [
       "<table>\n",
       "    <thead>\n",
       "        <tr>\n",
       "            <th>Elementary, Middle, or High School</th>\n",
       "            <th>AVG(SAFETY_SCORE)</th>\n",
       "        </tr>\n",
       "    </thead>\n",
       "    <tbody>\n",
       "        <tr>\n",
       "            <td>ES</td>\n",
       "            <td>49.52038369304557</td>\n",
       "        </tr>\n",
       "        <tr>\n",
       "            <td>HS</td>\n",
       "            <td>49.62352941176471</td>\n",
       "        </tr>\n",
       "        <tr>\n",
       "            <td>MS</td>\n",
       "            <td>48.0</td>\n",
       "        </tr>\n",
       "    </tbody>\n",
       "</table>"
      ],
      "text/plain": [
       "[('ES', 49.52038369304557), ('HS', 49.62352941176471), ('MS', 48.0)]"
      ]
     },
     "execution_count": 20,
     "metadata": {},
     "output_type": "execute_result"
    }
   ],
   "source": [
    "%sql select \"Elementary, Middle, or High School\", AVG(SAFETY_SCORE) FROM CHICAGO_PUBLIC_SCHOOLS_DATA\\\n",
    "GROUP BY \"Elementary, Middle, or High School\";"
   ]
  },
  {
   "cell_type": "markdown",
   "id": "3193887c-e95f-4830-9ab6-b5fcbe873178",
   "metadata": {},
   "source": [
    "Question #7: Listing the TOP 5 COMMUNITY areas with the highest % of households below the poverty line"
   ]
  },
  {
   "cell_type": "code",
   "execution_count": 21,
   "id": "fcdf41da-77e5-4f95-b386-0a300a8695f0",
   "metadata": {
    "tags": []
   },
   "outputs": [
    {
     "name": "stdout",
     "output_type": "stream",
     "text": [
      " * sqlite:///FinalDB.db\n",
      "Done.\n"
     ]
    },
    {
     "data": {
      "text/html": [
       "<table>\n",
       "    <thead>\n",
       "        <tr>\n",
       "            <th>COMMUNITY_AREA_NAME</th>\n",
       "            <th>PERCENT_HOUSEHOLDS_BELOW_POVERTY</th>\n",
       "        </tr>\n",
       "    </thead>\n",
       "    <tbody>\n",
       "        <tr>\n",
       "            <td>Riverdale</td>\n",
       "            <td>56.5</td>\n",
       "        </tr>\n",
       "        <tr>\n",
       "            <td>Fuller Park</td>\n",
       "            <td>51.2</td>\n",
       "        </tr>\n",
       "        <tr>\n",
       "            <td>Englewood</td>\n",
       "            <td>46.6</td>\n",
       "        </tr>\n",
       "        <tr>\n",
       "            <td>North Lawndale</td>\n",
       "            <td>43.1</td>\n",
       "        </tr>\n",
       "        <tr>\n",
       "            <td>East Garfield Park</td>\n",
       "            <td>42.4</td>\n",
       "        </tr>\n",
       "    </tbody>\n",
       "</table>"
      ],
      "text/plain": [
       "[('Riverdale', 56.5),\n",
       " ('Fuller Park', 51.2),\n",
       " ('Englewood', 46.6),\n",
       " ('North Lawndale', 43.1),\n",
       " ('East Garfield Park', 42.4)]"
      ]
     },
     "execution_count": 21,
     "metadata": {},
     "output_type": "execute_result"
    }
   ],
   "source": [
    "%sql  select COMMUNITY_AREA_NAME,PERCENT_HOUSEHOLDS_BELOW_POVERTY FROM CENSUS_DATA\\\n",
    "ORDER BY PERCENT_HOUSEHOLDS_BELOW_POVERTY desc LIMIT 5;"
   ]
  },
  {
   "cell_type": "markdown",
   "id": "1b9ed452-c8b5-438d-b9d0-2d82629cef91",
   "metadata": {},
   "source": [
    "Question 8:Finding out which community area is more crime-prone "
   ]
  },
  {
   "cell_type": "code",
   "execution_count": 22,
   "id": "b4e6c2d5-28ac-4149-bf6d-9fa87299ff9d",
   "metadata": {
    "tags": []
   },
   "outputs": [
    {
     "name": "stdout",
     "output_type": "stream",
     "text": [
      " * sqlite:///FinalDB.db\n",
      "Done.\n"
     ]
    },
    {
     "data": {
      "text/html": [
       "<table>\n",
       "    <thead>\n",
       "        <tr>\n",
       "            <th>COMMUNITY_AREA_NUMBER</th>\n",
       "            <th>COUNT(CASE_NUMBER)</th>\n",
       "        </tr>\n",
       "    </thead>\n",
       "    <tbody>\n",
       "        <tr>\n",
       "            <td>19.0</td>\n",
       "            <td>8</td>\n",
       "        </tr>\n",
       "    </tbody>\n",
       "</table>"
      ],
      "text/plain": [
       "[(19.0, 8)]"
      ]
     },
     "execution_count": 22,
     "metadata": {},
     "output_type": "execute_result"
    }
   ],
   "source": [
    "%sql select COMMUNITY_AREA_NUMBER, COUNT(CASE_NUMBER) FROM CHICAGO_CRIME_DATA \\\n",
    "GROUP BY COMMUNITY_AREA_NUMBER ORDER BY CASE_NUMBER desc LIMIT 1;"
   ]
  },
  {
   "cell_type": "markdown",
   "id": "22d4caca-873b-4519-8127-7fa2d7e28229",
   "metadata": {},
   "source": [
    "Question 9: Using a sub-query to find the community with the largest hardship index"
   ]
  },
  {
   "cell_type": "code",
   "execution_count": 23,
   "id": "b093e9f0-6b4d-47f3-b79c-9eb976be66aa",
   "metadata": {
    "tags": []
   },
   "outputs": [
    {
     "name": "stdout",
     "output_type": "stream",
     "text": [
      " * sqlite:///FinalDB.db\n",
      "Done.\n"
     ]
    },
    {
     "data": {
      "text/html": [
       "<table>\n",
       "    <thead>\n",
       "        <tr>\n",
       "            <th>COMMUNITY_AREA_NAME</th>\n",
       "        </tr>\n",
       "    </thead>\n",
       "    <tbody>\n",
       "        <tr>\n",
       "            <td>Riverdale</td>\n",
       "        </tr>\n",
       "    </tbody>\n",
       "</table>"
      ],
      "text/plain": [
       "[('Riverdale',)]"
      ]
     },
     "execution_count": 23,
     "metadata": {},
     "output_type": "execute_result"
    }
   ],
   "source": [
    "%sql select COMMUNITY_AREA_NAME FROM CENSUS_DATA\\\n",
    "WHERE HARDSHIP_INDEX=(select MAX(HARDSHIP_INDEX) FROM CENSUS_DATA);"
   ]
  },
  {
   "cell_type": "markdown",
   "id": "43afd89c-68a9-4c2c-8f47-49b2aa04c53c",
   "metadata": {
    "tags": []
   },
   "source": [
    "Question 10: Creating a sub-query to find the community name with the most crime"
   ]
  },
  {
   "cell_type": "code",
   "execution_count": 24,
   "id": "1be6daa5-7cf0-47f7-836a-511f8597c0f1",
   "metadata": {
    "tags": []
   },
   "outputs": [
    {
     "name": "stdout",
     "output_type": "stream",
     "text": [
      " * sqlite:///FinalDB.db\n",
      "Done.\n"
     ]
    },
    {
     "data": {
      "text/html": [
       "<table>\n",
       "    <thead>\n",
       "        <tr>\n",
       "            <th>COMMUNITY_AREA_NUMBER</th>\n",
       "            <th>COMMUNITY_AREA_NAME</th>\n",
       "        </tr>\n",
       "    </thead>\n",
       "    <tbody>\n",
       "        <tr>\n",
       "            <td>25.0</td>\n",
       "            <td>Austin</td>\n",
       "        </tr>\n",
       "    </tbody>\n",
       "</table>"
      ],
      "text/plain": [
       "[(25.0, 'Austin')]"
      ]
     },
     "execution_count": 24,
     "metadata": {},
     "output_type": "execute_result"
    }
   ],
   "source": [
    "%sql select COMMUNITY_AREA_NUMBER,COMMUNITY_AREA_NAME FROM CENSUS_DATA \\\n",
    "WHERE COMMUNITY_AREA_NUMBER=(select COMMUNITY_AREA_NUMBER\\\n",
    "FROM CHICAGO_CRIME_DATA GROUP BY COMMUNITY_AREA_NUMBER ORDER BY COUNT(*) DESC LIMIT 1);"
   ]
  },
  {
   "cell_type": "code",
   "execution_count": null,
   "id": "90a1db05-ebe6-4bd1-84f1-5dda7b3a5855",
   "metadata": {},
   "outputs": [],
   "source": []
  }
 ],
 "metadata": {
  "kernelspec": {
   "display_name": "Python",
   "language": "python",
   "name": "conda-env-python-py"
  },
  "language_info": {
   "codemirror_mode": {
    "name": "ipython",
    "version": 3
   },
   "file_extension": ".py",
   "mimetype": "text/x-python",
   "name": "python",
   "nbconvert_exporter": "python",
   "pygments_lexer": "ipython3",
   "version": "3.7.12"
  }
 },
 "nbformat": 4,
 "nbformat_minor": 5
}
